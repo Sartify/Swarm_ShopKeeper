{
  "nbformat": 4,
  "nbformat_minor": 0,
  "metadata": {
    "colab": {
      "provenance": [],
      "authorship_tag": "ABX9TyOUmFzQm6be9ShU86hfttIs",
      "include_colab_link": true
    },
    "kernelspec": {
      "name": "python3",
      "display_name": "Python 3"
    },
    "language_info": {
      "name": "python"
    }
  },
  "cells": [
    {
      "cell_type": "markdown",
      "metadata": {
        "id": "view-in-github",
        "colab_type": "text"
      },
      "source": [
        "<a href=\"https://colab.research.google.com/github/Sartify/Swarm_ShopKeeper/blob/main/Nvidia_Nemotron.ipynb\" target=\"_parent\"><img src=\"https://colab.research.google.com/assets/colab-badge.svg\" alt=\"Open In Colab\"/></a>"
      ]
    },
    {
      "cell_type": "code",
      "execution_count": 2,
      "metadata": {
        "colab": {
          "base_uri": "https://localhost:8080/"
        },
        "id": "n_DVWgFItgKa",
        "outputId": "c3539f5a-88c8-44ae-cbf1-a515bc0ba719"
      },
      "outputs": [
        {
          "output_type": "stream",
          "name": "stdout",
          "text": [
            "Collecting openai\n",
            "  Downloading openai-1.51.2-py3-none-any.whl.metadata (24 kB)\n",
            "Requirement already satisfied: anyio<5,>=3.5.0 in /usr/local/lib/python3.10/dist-packages (from openai) (3.7.1)\n",
            "Requirement already satisfied: distro<2,>=1.7.0 in /usr/lib/python3/dist-packages (from openai) (1.7.0)\n",
            "Collecting httpx<1,>=0.23.0 (from openai)\n",
            "  Downloading httpx-0.27.2-py3-none-any.whl.metadata (7.1 kB)\n",
            "Collecting jiter<1,>=0.4.0 (from openai)\n",
            "  Downloading jiter-0.6.1-cp310-cp310-manylinux_2_17_x86_64.manylinux2014_x86_64.whl.metadata (5.2 kB)\n",
            "Requirement already satisfied: pydantic<3,>=1.9.0 in /usr/local/lib/python3.10/dist-packages (from openai) (2.9.2)\n",
            "Requirement already satisfied: sniffio in /usr/local/lib/python3.10/dist-packages (from openai) (1.3.1)\n",
            "Requirement already satisfied: tqdm>4 in /usr/local/lib/python3.10/dist-packages (from openai) (4.66.5)\n",
            "Requirement already satisfied: typing-extensions<5,>=4.11 in /usr/local/lib/python3.10/dist-packages (from openai) (4.12.2)\n",
            "Requirement already satisfied: idna>=2.8 in /usr/local/lib/python3.10/dist-packages (from anyio<5,>=3.5.0->openai) (3.10)\n",
            "Requirement already satisfied: exceptiongroup in /usr/local/lib/python3.10/dist-packages (from anyio<5,>=3.5.0->openai) (1.2.2)\n",
            "Requirement already satisfied: certifi in /usr/local/lib/python3.10/dist-packages (from httpx<1,>=0.23.0->openai) (2024.8.30)\n",
            "Collecting httpcore==1.* (from httpx<1,>=0.23.0->openai)\n",
            "  Downloading httpcore-1.0.6-py3-none-any.whl.metadata (21 kB)\n",
            "Collecting h11<0.15,>=0.13 (from httpcore==1.*->httpx<1,>=0.23.0->openai)\n",
            "  Downloading h11-0.14.0-py3-none-any.whl.metadata (8.2 kB)\n",
            "Requirement already satisfied: annotated-types>=0.6.0 in /usr/local/lib/python3.10/dist-packages (from pydantic<3,>=1.9.0->openai) (0.7.0)\n",
            "Requirement already satisfied: pydantic-core==2.23.4 in /usr/local/lib/python3.10/dist-packages (from pydantic<3,>=1.9.0->openai) (2.23.4)\n",
            "Downloading openai-1.51.2-py3-none-any.whl (383 kB)\n",
            "\u001b[2K   \u001b[90m━━━━━━━━━━━━━━━━━━━━━━━━━━━━━━━━━━━━━━━━\u001b[0m \u001b[32m383.7/383.7 kB\u001b[0m \u001b[31m8.1 MB/s\u001b[0m eta \u001b[36m0:00:00\u001b[0m\n",
            "\u001b[?25hDownloading httpx-0.27.2-py3-none-any.whl (76 kB)\n",
            "\u001b[2K   \u001b[90m━━━━━━━━━━━━━━━━━━━━━━━━━━━━━━━━━━━━━━━━\u001b[0m \u001b[32m76.4/76.4 kB\u001b[0m \u001b[31m5.4 MB/s\u001b[0m eta \u001b[36m0:00:00\u001b[0m\n",
            "\u001b[?25hDownloading httpcore-1.0.6-py3-none-any.whl (78 kB)\n",
            "\u001b[2K   \u001b[90m━━━━━━━━━━━━━━━━━━━━━━━━━━━━━━━━━━━━━━━━\u001b[0m \u001b[32m78.0/78.0 kB\u001b[0m \u001b[31m5.7 MB/s\u001b[0m eta \u001b[36m0:00:00\u001b[0m\n",
            "\u001b[?25hDownloading jiter-0.6.1-cp310-cp310-manylinux_2_17_x86_64.manylinux2014_x86_64.whl (325 kB)\n",
            "\u001b[2K   \u001b[90m━━━━━━━━━━━━━━━━━━━━━━━━━━━━━━━━━━━━━━━━\u001b[0m \u001b[32m325.2/325.2 kB\u001b[0m \u001b[31m20.8 MB/s\u001b[0m eta \u001b[36m0:00:00\u001b[0m\n",
            "\u001b[?25hDownloading h11-0.14.0-py3-none-any.whl (58 kB)\n",
            "\u001b[2K   \u001b[90m━━━━━━━━━━━━━━━━━━━━━━━━━━━━━━━━━━━━━━━━\u001b[0m \u001b[32m58.3/58.3 kB\u001b[0m \u001b[31m4.2 MB/s\u001b[0m eta \u001b[36m0:00:00\u001b[0m\n",
            "\u001b[?25hInstalling collected packages: jiter, h11, httpcore, httpx, openai\n",
            "Successfully installed h11-0.14.0 httpcore-1.0.6 httpx-0.27.2 jiter-0.6.1 openai-1.51.2\n"
          ]
        }
      ],
      "source": [
        "!pip install openai"
      ]
    },
    {
      "cell_type": "code",
      "source": [
        "from google.colab import userdata\n",
        "from openai import OpenAI"
      ],
      "metadata": {
        "id": "WeME4diTHzV1"
      },
      "execution_count": 3,
      "outputs": []
    },
    {
      "cell_type": "code",
      "source": [
        "client = OpenAI(\n",
        "  base_url = \"https://integrate.api.nvidia.com/v1\",\n",
        "  api_key = userdata.get('NVIDIA_API')\n",
        ")"
      ],
      "metadata": {
        "colab": {
          "base_uri": "https://localhost:8080/"
        },
        "id": "JK75i4ljG0sT",
        "outputId": "35de0333-b8c6-4f13-afec-d5ed3f3f6a41"
      },
      "execution_count": 4,
      "outputs": [
        {
          "output_type": "stream",
          "name": "stdout",
          "text": [
            "Julius Kambarage Nyerere alikuwa kiongozi wa harakati za kupigania uhuru wa Tanganyika."
          ]
        }
      ]
    },
    {
      "cell_type": "code",
      "source": [
        "completion = client.chat.completions.create(\n",
        "  model=\"nvidia/llama-3.1-nemotron-70b-instruct\",\n",
        "  messages=[{\"role\":\"system\",\"content\":\"Wewe ni AI assistance jibu kama mtaalam na jibu vizuri na jaribu kujaza content ipasavyo na ujibu kwenye markdown\"}, {\"role\":\"user\",\"content\":\"Je, unajua jinsi hali ya hewa inavyoweza kuathiri maisha ya binadamu?\"}],\n",
        "  temperature=0,\n",
        "  top_p=1,\n",
        "  max_tokens=1024,\n",
        "  stream=True\n",
        ")\n",
        "\n",
        "for chunk in completion:\n",
        "  if chunk.choices[0].delta.content is not None:\n",
        "    print(chunk.choices[0].delta.content, end=\"\")"
      ],
      "metadata": {
        "colab": {
          "base_uri": "https://localhost:8080/"
        },
        "id": "ptXJnNR7IYUD",
        "outputId": "6ccf7447-e8cf-457e-9813-751be4204069"
      },
      "execution_count": 6,
      "outputs": [
        {
          "output_type": "stream",
          "name": "stdout",
          "text": [
            "**Jinsi Hali ya Hewa Inavyoweza Kuathiri Maisha ya Binadamu**\n",
            "====================================================================================\n",
            "\n",
            "Hali ya hewa ina athari kubwa katika maisha ya binadamu, ikichukua nafasi muhimu katika kubainisha ubora wa maisha yetu ya kila siku. Athari hizi zinaweza kuonekana katika vipengele mbalimbali vya maisha, ikiwa ni pamoja na afya, shughuli za kiuchumi, mazingira, na hata hisia za kihisia. Wacha tuchunguze kwa undani jinsi hali ya hewa inavyoweza kuathiri maisha ya binadamu:\n",
            "\n",
            "### 1. **Afya**\n",
            "#### - **Magonjwa ya Kipindi cha Mvua**\n",
            "  - Mvua kunyevunyevu huongeza uwezekano wa kuenea kwa magonjwa yanayosambazwa na wadudu kama vile malaria na homa ya dengue.\n",
            "#### - **Magonjwa ya Kipindi cha Joto**\n",
            "  - Halijoto kali kunaweza kusababisha mshtuko wa joto, hasa kwa watu wazima na watoto.\n",
            "#### - **Magonjwa ya Kipindi cha Baridi**\n",
            "  - Halijoto ya chini kunaweza kusababisha magonjwa ya kupumua kama vile mafua na kuharisha.\n",
            "\n",
            "### 2. **Shughuli za Kiuchumi**\n",
            "#### - **Kilimo**\n",
            "  - Mabadiliko ya hali ya hewa yanaweza kuathiri mavuno ya mazao, na kusababisha kupungua kwa mapato kwa wakulima.\n",
            "#### - **Uchumi wa Utalii**\n",
            "  - Hali mbaya za hewa kama vile mafuriko, janga la joto au baridi kali kunaweza kudhuru sekta ya utalii.\n",
            "#### - **Uchimbaji Madini na Nishati**\n",
            "  - Hali ya hewa inaweza kuathiri moja kwa moja au kwa kupitia mabadiliko ya mazingira, uwezo wa kuchimba rasilimali za nishati na madini.\n",
            "\n",
            "### 3. **Mazingira**\n",
            "#### - **Upotevu wa Bioanuwai**\n",
            "  - Mabadiliko ya hali ya hewa yanaweza kusababisha kupungua kwa makazi ya viumbe, na hivyo kuhatarisha bioanuwai.\n",
            "#### - **Mafuriko na Kukaukia kwa Miji**\n",
            "  - Ongezeko la viwango vya bahari na mafuriko kunaweza kuathiri maeneo ya pwani na miji.\n",
            "#### - **Ukame**\n",
            "  - Kupungua kwa kiasi cha mvua kunaweza kusababisha ukame, na athari kubwa kwa kilimo na rasilimali za maji.\n",
            "\n",
            "### 4. **Hisia za Kihisia na Kijamii**\n",
            "#### - **Stress na Wasiwasi**\n",
            "  - Hali mbaya za hewa zinazosababisha hasara za mali na maisha zinaweza kusababisha athari za kihisia.\n",
            "#### - **Uhamiaji wa Ndani na Nje**\n",
            "  - Mabadiliko makubwa ya hali ya hewa yanaweza kusababisha uhamiaji wa watu kutoka maeneo yaliyokumbwa na janga la hali ya hewa.\n",
            "\n",
            "### **Hatua za Kuchukua**\n",
            "- **Kutumia Vifaa vya Habari**: Kutumia vifaa vya habari kama vile vipimo vya hali ya hewa ili kupanga shughuli za kila siku.\n",
            "- **Kuandaa Mikakati ya Dharura**: Kuwa na mikakati mahususi kwa ajili ya kushughulikia majanga ya hali ya hewa.\n",
            "- **Kuchangia Katika Kudumisha Mazingira**: Kuchukua hatua za kibinafsi na za pamoja ili kupunguza athari za mabadiliko ya hali ya hewa.\n",
            "\n",
            "Kwa kuelewa vyema jinsi hali ya hewa inavyoweza kuathiri maisha yetu, tunaweza kuchukua hatua madhubuti za kuzipungu"
          ]
        }
      ]
    }
  ]
}